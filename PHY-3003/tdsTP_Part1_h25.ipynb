{
 "cells": [
  {
   "cell_type": "markdown",
   "metadata": {},
   "source": [
    "<h1 style=\"text-align:center\">Travail pratique numérique en thermodynamique statistique</h1>\n",
    "<h2 style=\"text-align:center\">PARTIE 1 : Cinétique des gaz parfaits</h2>\n",
    "\n",
    "Veuillez indiquer le nom des membres de votre équipe dans la cellule suivante."
   ]
  },
  {
   "cell_type": "markdown",
   "metadata": {},
   "source": [
    "Olivier Gilbert et Xavier Boucher"
   ]
  },
  {
   "cell_type": "markdown",
   "metadata": {
    "nteract": {
     "transient": {
      "deleting": false
     }
    }
   },
   "source": [
    "# Introduction #\n",
    "Ce travail révise d'abord quelques bases générales de mécanique statistique classique avec le script `tds2Danimation_hXX.py` qui simule la théorie cinétique des gaz parfaits en 2D. Cette simulation utilise le concept de sphères dures, mais ici pour le cas des particules d'un gaz afin d'introduire des collisions élastiques entre elles sur leurs trajectoires ballistiques. Notez qu'une sphère est colorée et grossie seulement pour l’effet visuel dans l'animation, la physique de l’algorithme codé considère bien des particules totalement identiques. Les questions sur cette simulation, à répondre directement dans les cellules du carnet _(Notebook)_ ici-même, explorent quelques paramètres de la thermodynamique statistique et introduisent de nouveaux termes utiles à l'étude du mouvement des électrons dans la matière.\n",
    "\n",
    "_N.B._ \n",
    "- _Pour montrer les animations à l'écran, le script `tds2Danimation_hXX.py` importe la librairie `VPython` qu'il faut donc installer. Des liens vers sa documentation et de l'information complémentaire sont donnés dans la médiagraphie à la fin._\n",
    "- _Le code dans ce script est abusivement commenté dans notre contexte pédagogique, mais il serait bien sûr préférable de s’en tenir aux recommandations du <a href=\"https://www.python.org/dev/peps/pep-0008\"> PEP 8 — Style Guide for Python Code</a>._\n",
    "- _Notez finalement que la boucle principale à la fin du script laisse l'utilisateur voir l'animation aussi longtemps que souhaité, assurez-vous donc de savoir comment l'interrompre correctement avant de lancer la simulation ou de la remplacer par une boucle `for`._"
   ]
  },
  {
   "cell_type": "markdown",
   "metadata": {
    "nteract": {
     "transient": {
      "deleting": false
     }
    }
   },
   "source": [
    "# 1<sup>re</sup> partie - Cinétique CLASSIQUE des gaz parfaits #"
   ]
  },
  {
   "cell_type": "markdown",
   "metadata": {
    "nteract": {
     "transient": {
      "deleting": false
     }
    }
   },
   "source": [
    "### Simulation 2D ###"
   ]
  },
  {
   "cell_type": "code",
   "execution_count": 35,
   "metadata": {},
   "outputs": [
    {
     "name": "stderr",
     "output_type": "stream",
     "text": [
      "WARNING: Skipping vpython as it is not installed.\n"
     ]
    }
   ],
   "source": [
    "!pip uninstall vpython -y"
   ]
  },
  {
   "cell_type": "code",
   "execution_count": 36,
   "metadata": {},
   "outputs": [
    {
     "name": "stdout",
     "output_type": "stream",
     "text": [
      "Collecting vpython\n",
      "  Using cached vpython-7.6.5-cp39-cp39-win_amd64.whl (3.6 MB)\n",
      "Requirement already satisfied: numpy in c:\\users\\olivi\\appdata\\local\\packages\\pythonsoftwarefoundation.python.3.9_qbz5n2kfra8p0\\localcache\\local-packages\\python39\\site-packages (from vpython) (1.24.1)\n",
      "Requirement already satisfied: jupyterlab-vpython>=3.1.8 in c:\\users\\olivi\\appdata\\local\\packages\\pythonsoftwarefoundation.python.3.9_qbz5n2kfra8p0\\localcache\\local-packages\\python39\\site-packages (from vpython) (3.1.8)\n",
      "Requirement already satisfied: jupyter in c:\\users\\olivi\\appdata\\local\\packages\\pythonsoftwarefoundation.python.3.9_qbz5n2kfra8p0\\localcache\\local-packages\\python39\\site-packages (from vpython) (1.0.0)\n",
      "Requirement already satisfied: autobahn<27,>=22.6.1 in c:\\users\\olivi\\appdata\\local\\packages\\pythonsoftwarefoundation.python.3.9_qbz5n2kfra8p0\\localcache\\local-packages\\python39\\site-packages (from vpython) (24.4.2)\n",
      "Requirement already satisfied: jupyter-server-proxy in c:\\users\\olivi\\appdata\\local\\packages\\pythonsoftwarefoundation.python.3.9_qbz5n2kfra8p0\\localcache\\local-packages\\python39\\site-packages (from vpython) (4.4.0)\n",
      "Requirement already satisfied: ipykernel in c:\\users\\olivi\\appdata\\local\\packages\\pythonsoftwarefoundation.python.3.9_qbz5n2kfra8p0\\localcache\\local-packages\\python39\\site-packages (from vpython) (6.17.1)\n",
      "Requirement already satisfied: cryptography>=3.4.6 in c:\\users\\olivi\\appdata\\local\\packages\\pythonsoftwarefoundation.python.3.9_qbz5n2kfra8p0\\localcache\\local-packages\\python39\\site-packages (from autobahn<27,>=22.6.1->vpython) (44.0.0)\n",
      "Requirement already satisfied: hyperlink>=21.0.0 in c:\\users\\olivi\\appdata\\local\\packages\\pythonsoftwarefoundation.python.3.9_qbz5n2kfra8p0\\localcache\\local-packages\\python39\\site-packages (from autobahn<27,>=22.6.1->vpython) (21.0.0)\n",
      "Requirement already satisfied: txaio>=21.2.1 in c:\\users\\olivi\\appdata\\local\\packages\\pythonsoftwarefoundation.python.3.9_qbz5n2kfra8p0\\localcache\\local-packages\\python39\\site-packages (from autobahn<27,>=22.6.1->vpython) (23.1.1)\n",
      "Requirement already satisfied: setuptools in c:\\program files\\windowsapps\\pythonsoftwarefoundation.python.3.9_3.9.3568.0_x64__qbz5n2kfra8p0\\lib\\site-packages (from autobahn<27,>=22.6.1->vpython) (58.1.0)\n",
      "Requirement already satisfied: packaging in c:\\users\\olivi\\appdata\\local\\packages\\pythonsoftwarefoundation.python.3.9_qbz5n2kfra8p0\\localcache\\local-packages\\python39\\site-packages (from ipykernel->vpython) (21.3)\n",
      "Requirement already satisfied: debugpy>=1.0 in c:\\users\\olivi\\appdata\\local\\packages\\pythonsoftwarefoundation.python.3.9_qbz5n2kfra8p0\\localcache\\local-packages\\python39\\site-packages (from ipykernel->vpython) (1.6.4)\n",
      "Requirement already satisfied: nest-asyncio in c:\\users\\olivi\\appdata\\local\\packages\\pythonsoftwarefoundation.python.3.9_qbz5n2kfra8p0\\localcache\\local-packages\\python39\\site-packages (from ipykernel->vpython) (1.5.6)\n",
      "Requirement already satisfied: pyzmq>=17 in c:\\users\\olivi\\appdata\\local\\packages\\pythonsoftwarefoundation.python.3.9_qbz5n2kfra8p0\\localcache\\local-packages\\python39\\site-packages (from ipykernel->vpython) (24.0.1)\n",
      "Requirement already satisfied: jupyter-client>=6.1.12 in c:\\users\\olivi\\appdata\\local\\packages\\pythonsoftwarefoundation.python.3.9_qbz5n2kfra8p0\\localcache\\local-packages\\python39\\site-packages (from ipykernel->vpython) (7.4.8)\n",
      "Requirement already satisfied: psutil in c:\\users\\olivi\\appdata\\local\\packages\\pythonsoftwarefoundation.python.3.9_qbz5n2kfra8p0\\localcache\\local-packages\\python39\\site-packages (from ipykernel->vpython) (5.9.4)\n",
      "Requirement already satisfied: ipython>=7.23.1 in c:\\users\\olivi\\appdata\\local\\packages\\pythonsoftwarefoundation.python.3.9_qbz5n2kfra8p0\\localcache\\local-packages\\python39\\site-packages (from ipykernel->vpython) (8.7.0)\n",
      "Requirement already satisfied: traitlets>=5.1.0 in c:\\users\\olivi\\appdata\\local\\packages\\pythonsoftwarefoundation.python.3.9_qbz5n2kfra8p0\\localcache\\local-packages\\python39\\site-packages (from ipykernel->vpython) (5.6.0)\n",
      "Requirement already satisfied: matplotlib-inline>=0.1 in c:\\users\\olivi\\appdata\\local\\packages\\pythonsoftwarefoundation.python.3.9_qbz5n2kfra8p0\\localcache\\local-packages\\python39\\site-packages (from ipykernel->vpython) (0.1.6)\n",
      "Requirement already satisfied: tornado>=6.1 in c:\\users\\olivi\\appdata\\local\\packages\\pythonsoftwarefoundation.python.3.9_qbz5n2kfra8p0\\localcache\\local-packages\\python39\\site-packages (from ipykernel->vpython) (6.2)\n",
      "Requirement already satisfied: nbconvert in c:\\users\\olivi\\appdata\\local\\packages\\pythonsoftwarefoundation.python.3.9_qbz5n2kfra8p0\\localcache\\local-packages\\python39\\site-packages (from jupyter->vpython) (7.2.6)\n",
      "Requirement already satisfied: qtconsole in c:\\users\\olivi\\appdata\\local\\packages\\pythonsoftwarefoundation.python.3.9_qbz5n2kfra8p0\\localcache\\local-packages\\python39\\site-packages (from jupyter->vpython) (5.4.0)\n",
      "Requirement already satisfied: ipywidgets in c:\\users\\olivi\\appdata\\local\\packages\\pythonsoftwarefoundation.python.3.9_qbz5n2kfra8p0\\localcache\\local-packages\\python39\\site-packages (from jupyter->vpython) (8.0.2)\n",
      "Requirement already satisfied: jupyter-console in c:\\users\\olivi\\appdata\\local\\packages\\pythonsoftwarefoundation.python.3.9_qbz5n2kfra8p0\\localcache\\local-packages\\python39\\site-packages (from jupyter->vpython) (6.4.4)\n",
      "Requirement already satisfied: notebook in c:\\users\\olivi\\appdata\\local\\packages\\pythonsoftwarefoundation.python.3.9_qbz5n2kfra8p0\\localcache\\local-packages\\python39\\site-packages (from jupyter->vpython) (6.5.2)\n",
      "Requirement already satisfied: importlib-metadata>=4.8.3 in c:\\users\\olivi\\appdata\\local\\packages\\pythonsoftwarefoundation.python.3.9_qbz5n2kfra8p0\\localcache\\local-packages\\python39\\site-packages (from jupyter-server-proxy->vpython) (5.1.0)\n",
      "Requirement already satisfied: jupyter-server>=1.24.0 in c:\\users\\olivi\\appdata\\local\\packages\\pythonsoftwarefoundation.python.3.9_qbz5n2kfra8p0\\localcache\\local-packages\\python39\\site-packages (from jupyter-server-proxy->vpython) (2.0.0)\n",
      "Requirement already satisfied: simpervisor>=1.0.0 in c:\\users\\olivi\\appdata\\local\\packages\\pythonsoftwarefoundation.python.3.9_qbz5n2kfra8p0\\localcache\\local-packages\\python39\\site-packages (from jupyter-server-proxy->vpython) (1.0.0)\n",
      "Requirement already satisfied: aiohttp in c:\\users\\olivi\\appdata\\local\\packages\\pythonsoftwarefoundation.python.3.9_qbz5n2kfra8p0\\localcache\\local-packages\\python39\\site-packages (from jupyter-server-proxy->vpython) (3.11.12)\n",
      "Requirement already satisfied: cffi>=1.12 in c:\\users\\olivi\\appdata\\local\\packages\\pythonsoftwarefoundation.python.3.9_qbz5n2kfra8p0\\localcache\\local-packages\\python39\\site-packages (from cryptography>=3.4.6->autobahn<27,>=22.6.1->vpython) (1.15.1)\n",
      "Requirement already satisfied: idna>=2.5 in c:\\users\\olivi\\appdata\\local\\packages\\pythonsoftwarefoundation.python.3.9_qbz5n2kfra8p0\\localcache\\local-packages\\python39\\site-packages (from hyperlink>=21.0.0->autobahn<27,>=22.6.1->vpython) (3.4)\n",
      "Requirement already satisfied: zipp>=0.5 in c:\\users\\olivi\\appdata\\local\\packages\\pythonsoftwarefoundation.python.3.9_qbz5n2kfra8p0\\localcache\\local-packages\\python39\\site-packages (from importlib-metadata>=4.8.3->jupyter-server-proxy->vpython) (3.11.0)\n",
      "Requirement already satisfied: decorator in c:\\users\\olivi\\appdata\\local\\packages\\pythonsoftwarefoundation.python.3.9_qbz5n2kfra8p0\\localcache\\local-packages\\python39\\site-packages (from ipython>=7.23.1->ipykernel->vpython) (5.1.1)\n",
      "Requirement already satisfied: prompt-toolkit<3.1.0,>=3.0.11 in c:\\users\\olivi\\appdata\\local\\packages\\pythonsoftwarefoundation.python.3.9_qbz5n2kfra8p0\\localcache\\local-packages\\python39\\site-packages (from ipython>=7.23.1->ipykernel->vpython) (3.0.36)\n",
      "Requirement already satisfied: stack-data in c:\\users\\olivi\\appdata\\local\\packages\\pythonsoftwarefoundation.python.3.9_qbz5n2kfra8p0\\localcache\\local-packages\\python39\\site-packages (from ipython>=7.23.1->ipykernel->vpython) (0.6.2)\n",
      "Requirement already satisfied: pygments>=2.4.0 in c:\\users\\olivi\\appdata\\local\\packages\\pythonsoftwarefoundation.python.3.9_qbz5n2kfra8p0\\localcache\\local-packages\\python39\\site-packages (from ipython>=7.23.1->ipykernel->vpython) (2.13.0)\n",
      "Requirement already satisfied: jedi>=0.16 in c:\\users\\olivi\\appdata\\local\\packages\\pythonsoftwarefoundation.python.3.9_qbz5n2kfra8p0\\localcache\\local-packages\\python39\\site-packages (from ipython>=7.23.1->ipykernel->vpython) (0.18.2)\n",
      "Requirement already satisfied: pickleshare in c:\\users\\olivi\\appdata\\local\\packages\\pythonsoftwarefoundation.python.3.9_qbz5n2kfra8p0\\localcache\\local-packages\\python39\\site-packages (from ipython>=7.23.1->ipykernel->vpython) (0.7.5)\n",
      "Requirement already satisfied: colorama in c:\\users\\olivi\\appdata\\local\\packages\\pythonsoftwarefoundation.python.3.9_qbz5n2kfra8p0\\localcache\\local-packages\\python39\\site-packages (from ipython>=7.23.1->ipykernel->vpython) (0.4.6)\n",
      "Requirement already satisfied: backcall in c:\\users\\olivi\\appdata\\local\\packages\\pythonsoftwarefoundation.python.3.9_qbz5n2kfra8p0\\localcache\\local-packages\\python39\\site-packages (from ipython>=7.23.1->ipykernel->vpython) (0.2.0)\n",
      "Requirement already satisfied: python-dateutil>=2.8.2 in c:\\users\\olivi\\appdata\\local\\packages\\pythonsoftwarefoundation.python.3.9_qbz5n2kfra8p0\\localcache\\local-packages\\python39\\site-packages (from jupyter-client>=6.1.12->ipykernel->vpython) (2.8.2)\n",
      "Requirement already satisfied: jupyter-core>=4.9.2 in c:\\users\\olivi\\appdata\\local\\packages\\pythonsoftwarefoundation.python.3.9_qbz5n2kfra8p0\\localcache\\local-packages\\python39\\site-packages (from jupyter-client>=6.1.12->ipykernel->vpython) (5.1.0)\n",
      "Requirement already satisfied: entrypoints in c:\\users\\olivi\\appdata\\local\\packages\\pythonsoftwarefoundation.python.3.9_qbz5n2kfra8p0\\localcache\\local-packages\\python39\\site-packages (from jupyter-client>=6.1.12->ipykernel->vpython) (0.4)\n",
      "Requirement already satisfied: argon2-cffi in c:\\users\\olivi\\appdata\\local\\packages\\pythonsoftwarefoundation.python.3.9_qbz5n2kfra8p0\\localcache\\local-packages\\python39\\site-packages (from jupyter-server>=1.24.0->jupyter-server-proxy->vpython) (21.3.0)\n",
      "Requirement already satisfied: anyio<4,>=3.1.0 in c:\\users\\olivi\\appdata\\local\\packages\\pythonsoftwarefoundation.python.3.9_qbz5n2kfra8p0\\localcache\\local-packages\\python39\\site-packages (from jupyter-server>=1.24.0->jupyter-server-proxy->vpython) (3.6.2)\n",
      "Requirement already satisfied: terminado>=0.8.3 in c:\\users\\olivi\\appdata\\local\\packages\\pythonsoftwarefoundation.python.3.9_qbz5n2kfra8p0\\localcache\\local-packages\\python39\\site-packages (from jupyter-server>=1.24.0->jupyter-server-proxy->vpython) (0.17.1)\n",
      "Requirement already satisfied: jinja2 in c:\\users\\olivi\\appdata\\local\\packages\\pythonsoftwarefoundation.python.3.9_qbz5n2kfra8p0\\localcache\\local-packages\\python39\\site-packages (from jupyter-server>=1.24.0->jupyter-server-proxy->vpython) (3.1.2)\n",
      "Requirement already satisfied: websocket-client in c:\\users\\olivi\\appdata\\local\\packages\\pythonsoftwarefoundation.python.3.9_qbz5n2kfra8p0\\localcache\\local-packages\\python39\\site-packages (from jupyter-server>=1.24.0->jupyter-server-proxy->vpython) (1.8.0)\n",
      "Requirement already satisfied: jupyter-events>=0.4.0 in c:\\users\\olivi\\appdata\\local\\packages\\pythonsoftwarefoundation.python.3.9_qbz5n2kfra8p0\\localcache\\local-packages\\python39\\site-packages (from jupyter-server>=1.24.0->jupyter-server-proxy->vpython) (0.5.0)\n",
      "Requirement already satisfied: jupyter-server-terminals in c:\\users\\olivi\\appdata\\local\\packages\\pythonsoftwarefoundation.python.3.9_qbz5n2kfra8p0\\localcache\\local-packages\\python39\\site-packages (from jupyter-server>=1.24.0->jupyter-server-proxy->vpython) (0.4.2)\n",
      "Requirement already satisfied: nbformat>=5.3.0 in c:\\users\\olivi\\appdata\\local\\packages\\pythonsoftwarefoundation.python.3.9_qbz5n2kfra8p0\\localcache\\local-packages\\python39\\site-packages (from jupyter-server>=1.24.0->jupyter-server-proxy->vpython) (5.7.0)\n",
      "Requirement already satisfied: pywinpty in c:\\users\\olivi\\appdata\\local\\packages\\pythonsoftwarefoundation.python.3.9_qbz5n2kfra8p0\\localcache\\local-packages\\python39\\site-packages (from jupyter-server>=1.24.0->jupyter-server-proxy->vpython) (2.0.9)\n",
      "Requirement already satisfied: send2trash in c:\\users\\olivi\\appdata\\local\\packages\\pythonsoftwarefoundation.python.3.9_qbz5n2kfra8p0\\localcache\\local-packages\\python39\\site-packages (from jupyter-server>=1.24.0->jupyter-server-proxy->vpython) (1.8.0)\n",
      "Requirement already satisfied: prometheus-client in c:\\users\\olivi\\appdata\\local\\packages\\pythonsoftwarefoundation.python.3.9_qbz5n2kfra8p0\\localcache\\local-packages\\python39\\site-packages (from jupyter-server>=1.24.0->jupyter-server-proxy->vpython) (0.15.0)\n",
      "Requirement already satisfied: bleach in c:\\users\\olivi\\appdata\\local\\packages\\pythonsoftwarefoundation.python.3.9_qbz5n2kfra8p0\\localcache\\local-packages\\python39\\site-packages (from nbconvert->jupyter->vpython) (5.0.1)\n",
      "Requirement already satisfied: jupyterlab-pygments in c:\\users\\olivi\\appdata\\local\\packages\\pythonsoftwarefoundation.python.3.9_qbz5n2kfra8p0\\localcache\\local-packages\\python39\\site-packages (from nbconvert->jupyter->vpython) (0.2.2)\n",
      "Requirement already satisfied: beautifulsoup4 in c:\\users\\olivi\\appdata\\local\\packages\\pythonsoftwarefoundation.python.3.9_qbz5n2kfra8p0\\localcache\\local-packages\\python39\\site-packages (from nbconvert->jupyter->vpython) (4.11.1)\n",
      "Requirement already satisfied: defusedxml in c:\\users\\olivi\\appdata\\local\\packages\\pythonsoftwarefoundation.python.3.9_qbz5n2kfra8p0\\localcache\\local-packages\\python39\\site-packages (from nbconvert->jupyter->vpython) (0.7.1)\n",
      "Requirement already satisfied: nbclient>=0.5.0 in c:\\users\\olivi\\appdata\\local\\packages\\pythonsoftwarefoundation.python.3.9_qbz5n2kfra8p0\\localcache\\local-packages\\python39\\site-packages (from nbconvert->jupyter->vpython) (0.7.2)\n",
      "Requirement already satisfied: markupsafe>=2.0 in c:\\users\\olivi\\appdata\\local\\packages\\pythonsoftwarefoundation.python.3.9_qbz5n2kfra8p0\\localcache\\local-packages\\python39\\site-packages (from nbconvert->jupyter->vpython) (2.1.1)\n",
      "Requirement already satisfied: mistune<3,>=2.0.3 in c:\\users\\olivi\\appdata\\local\\packages\\pythonsoftwarefoundation.python.3.9_qbz5n2kfra8p0\\localcache\\local-packages\\python39\\site-packages (from nbconvert->jupyter->vpython) (2.0.4)\n",
      "Requirement already satisfied: tinycss2 in c:\\users\\olivi\\appdata\\local\\packages\\pythonsoftwarefoundation.python.3.9_qbz5n2kfra8p0\\localcache\\local-packages\\python39\\site-packages (from nbconvert->jupyter->vpython) (1.2.1)\n",
      "Requirement already satisfied: pandocfilters>=1.4.1 in c:\\users\\olivi\\appdata\\local\\packages\\pythonsoftwarefoundation.python.3.9_qbz5n2kfra8p0\\localcache\\local-packages\\python39\\site-packages (from nbconvert->jupyter->vpython) (1.5.0)\n",
      "Requirement already satisfied: frozenlist>=1.1.1 in c:\\users\\olivi\\appdata\\local\\packages\\pythonsoftwarefoundation.python.3.9_qbz5n2kfra8p0\\localcache\\local-packages\\python39\\site-packages (from aiohttp->jupyter-server-proxy->vpython) (1.5.0)\n",
      "Requirement already satisfied: attrs>=17.3.0 in c:\\users\\olivi\\appdata\\local\\packages\\pythonsoftwarefoundation.python.3.9_qbz5n2kfra8p0\\localcache\\local-packages\\python39\\site-packages (from aiohttp->jupyter-server-proxy->vpython) (25.1.0)\n",
      "Requirement already satisfied: aiohappyeyeballs>=2.3.0 in c:\\users\\olivi\\appdata\\local\\packages\\pythonsoftwarefoundation.python.3.9_qbz5n2kfra8p0\\localcache\\local-packages\\python39\\site-packages (from aiohttp->jupyter-server-proxy->vpython) (2.4.6)\n",
      "Requirement already satisfied: yarl<2.0,>=1.17.0 in c:\\users\\olivi\\appdata\\local\\packages\\pythonsoftwarefoundation.python.3.9_qbz5n2kfra8p0\\localcache\\local-packages\\python39\\site-packages (from aiohttp->jupyter-server-proxy->vpython) (1.18.3)\n",
      "Requirement already satisfied: async-timeout<6.0,>=4.0 in c:\\users\\olivi\\appdata\\local\\packages\\pythonsoftwarefoundation.python.3.9_qbz5n2kfra8p0\\localcache\\local-packages\\python39\\site-packages (from aiohttp->jupyter-server-proxy->vpython) (5.0.1)\n",
      "Requirement already satisfied: propcache>=0.2.0 in c:\\users\\olivi\\appdata\\local\\packages\\pythonsoftwarefoundation.python.3.9_qbz5n2kfra8p0\\localcache\\local-packages\\python39\\site-packages (from aiohttp->jupyter-server-proxy->vpython) (0.2.1)\n",
      "Requirement already satisfied: multidict<7.0,>=4.5 in c:\\users\\olivi\\appdata\\local\\packages\\pythonsoftwarefoundation.python.3.9_qbz5n2kfra8p0\\localcache\\local-packages\\python39\\site-packages (from aiohttp->jupyter-server-proxy->vpython) (6.1.0)\n",
      "Requirement already satisfied: aiosignal>=1.1.2 in c:\\users\\olivi\\appdata\\local\\packages\\pythonsoftwarefoundation.python.3.9_qbz5n2kfra8p0\\localcache\\local-packages\\python39\\site-packages (from aiohttp->jupyter-server-proxy->vpython) (1.3.2)\n",
      "Requirement already satisfied: jupyterlab-widgets~=3.0 in c:\\users\\olivi\\appdata\\local\\packages\\pythonsoftwarefoundation.python.3.9_qbz5n2kfra8p0\\localcache\\local-packages\\python39\\site-packages (from ipywidgets->jupyter->vpython) (3.0.3)\n",
      "Requirement already satisfied: widgetsnbextension~=4.0 in c:\\users\\olivi\\appdata\\local\\packages\\pythonsoftwarefoundation.python.3.9_qbz5n2kfra8p0\\localcache\\local-packages\\python39\\site-packages (from ipywidgets->jupyter->vpython) (4.0.3)\n",
      "Requirement already satisfied: nbclassic>=0.4.7 in c:\\users\\olivi\\appdata\\local\\packages\\pythonsoftwarefoundation.python.3.9_qbz5n2kfra8p0\\localcache\\local-packages\\python39\\site-packages (from notebook->jupyter->vpython) (0.4.8)\n",
      "Requirement already satisfied: ipython-genutils in c:\\users\\olivi\\appdata\\local\\packages\\pythonsoftwarefoundation.python.3.9_qbz5n2kfra8p0\\localcache\\local-packages\\python39\\site-packages (from notebook->jupyter->vpython) (0.2.0)\n",
      "Requirement already satisfied: pyparsing!=3.0.5,>=2.0.2 in c:\\users\\olivi\\appdata\\local\\packages\\pythonsoftwarefoundation.python.3.9_qbz5n2kfra8p0\\localcache\\local-packages\\python39\\site-packages (from packaging->ipykernel->vpython) (3.0.9)\n",
      "Requirement already satisfied: qtpy>=2.0.1 in c:\\users\\olivi\\appdata\\local\\packages\\pythonsoftwarefoundation.python.3.9_qbz5n2kfra8p0\\localcache\\local-packages\\python39\\site-packages (from qtconsole->jupyter->vpython) (2.3.0)\n",
      "Requirement already satisfied: sniffio>=1.1 in c:\\users\\olivi\\appdata\\local\\packages\\pythonsoftwarefoundation.python.3.9_qbz5n2kfra8p0\\localcache\\local-packages\\python39\\site-packages (from anyio<4,>=3.1.0->jupyter-server>=1.24.0->jupyter-server-proxy->vpython) (1.3.0)\n",
      "Requirement already satisfied: pycparser in c:\\users\\olivi\\appdata\\local\\packages\\pythonsoftwarefoundation.python.3.9_qbz5n2kfra8p0\\localcache\\local-packages\\python39\\site-packages (from cffi>=1.12->cryptography>=3.4.6->autobahn<27,>=22.6.1->vpython) (2.21)\n",
      "Requirement already satisfied: parso<0.9.0,>=0.8.0 in c:\\users\\olivi\\appdata\\local\\packages\\pythonsoftwarefoundation.python.3.9_qbz5n2kfra8p0\\localcache\\local-packages\\python39\\site-packages (from jedi>=0.16->ipython>=7.23.1->ipykernel->vpython) (0.8.3)\n",
      "Requirement already satisfied: pywin32>=1.0 in c:\\users\\olivi\\appdata\\local\\packages\\pythonsoftwarefoundation.python.3.9_qbz5n2kfra8p0\\localcache\\local-packages\\python39\\site-packages (from jupyter-core>=4.9.2->jupyter-client>=6.1.12->ipykernel->vpython) (305)\n",
      "Requirement already satisfied: platformdirs>=2.5 in c:\\users\\olivi\\appdata\\local\\packages\\pythonsoftwarefoundation.python.3.9_qbz5n2kfra8p0\\localcache\\local-packages\\python39\\site-packages (from jupyter-core>=4.9.2->jupyter-client>=6.1.12->ipykernel->vpython) (2.5.4)\n",
      "Requirement already satisfied: python-json-logger in c:\\users\\olivi\\appdata\\local\\packages\\pythonsoftwarefoundation.python.3.9_qbz5n2kfra8p0\\localcache\\local-packages\\python39\\site-packages (from jupyter-events>=0.4.0->jupyter-server>=1.24.0->jupyter-server-proxy->vpython) (2.0.4)\n",
      "Requirement already satisfied: jsonschema[format-nongpl]>=4.3.0 in c:\\users\\olivi\\appdata\\local\\packages\\pythonsoftwarefoundation.python.3.9_qbz5n2kfra8p0\\localcache\\local-packages\\python39\\site-packages (from jupyter-events>=0.4.0->jupyter-server>=1.24.0->jupyter-server-proxy->vpython) (4.17.3)\n",
      "Requirement already satisfied: pyyaml in c:\\users\\olivi\\appdata\\local\\packages\\pythonsoftwarefoundation.python.3.9_qbz5n2kfra8p0\\localcache\\local-packages\\python39\\site-packages (from jupyter-events>=0.4.0->jupyter-server>=1.24.0->jupyter-server-proxy->vpython) (6.0)\n",
      "Requirement already satisfied: typing-extensions>=4.1.0 in c:\\users\\olivi\\appdata\\local\\packages\\pythonsoftwarefoundation.python.3.9_qbz5n2kfra8p0\\localcache\\local-packages\\python39\\site-packages (from multidict<7.0,>=4.5->aiohttp->jupyter-server-proxy->vpython) (4.12.2)\n",
      "Requirement already satisfied: notebook-shim>=0.1.0 in c:\\users\\olivi\\appdata\\local\\packages\\pythonsoftwarefoundation.python.3.9_qbz5n2kfra8p0\\localcache\\local-packages\\python39\\site-packages (from nbclassic>=0.4.7->notebook->jupyter->vpython) (0.2.2)\n",
      "Requirement already satisfied: fastjsonschema in c:\\users\\olivi\\appdata\\local\\packages\\pythonsoftwarefoundation.python.3.9_qbz5n2kfra8p0\\localcache\\local-packages\\python39\\site-packages (from nbformat>=5.3.0->jupyter-server>=1.24.0->jupyter-server-proxy->vpython) (2.16.2)\n",
      "Requirement already satisfied: wcwidth in c:\\users\\olivi\\appdata\\local\\packages\\pythonsoftwarefoundation.python.3.9_qbz5n2kfra8p0\\localcache\\local-packages\\python39\\site-packages (from prompt-toolkit<3.1.0,>=3.0.11->ipython>=7.23.1->ipykernel->vpython) (0.2.5)\n",
      "Requirement already satisfied: six>=1.5 in c:\\users\\olivi\\appdata\\local\\packages\\pythonsoftwarefoundation.python.3.9_qbz5n2kfra8p0\\localcache\\local-packages\\python39\\site-packages (from python-dateutil>=2.8.2->jupyter-client>=6.1.12->ipykernel->vpython) (1.16.0)\n",
      "Requirement already satisfied: argon2-cffi-bindings in c:\\users\\olivi\\appdata\\local\\packages\\pythonsoftwarefoundation.python.3.9_qbz5n2kfra8p0\\localcache\\local-packages\\python39\\site-packages (from argon2-cffi->jupyter-server>=1.24.0->jupyter-server-proxy->vpython) (21.2.0)\n",
      "Requirement already satisfied: soupsieve>1.2 in c:\\users\\olivi\\appdata\\local\\packages\\pythonsoftwarefoundation.python.3.9_qbz5n2kfra8p0\\localcache\\local-packages\\python39\\site-packages (from beautifulsoup4->nbconvert->jupyter->vpython) (2.3.2.post1)\n",
      "Requirement already satisfied: webencodings in c:\\users\\olivi\\appdata\\local\\packages\\pythonsoftwarefoundation.python.3.9_qbz5n2kfra8p0\\localcache\\local-packages\\python39\\site-packages (from bleach->nbconvert->jupyter->vpython) (0.5.1)\n",
      "Requirement already satisfied: executing>=1.2.0 in c:\\users\\olivi\\appdata\\local\\packages\\pythonsoftwarefoundation.python.3.9_qbz5n2kfra8p0\\localcache\\local-packages\\python39\\site-packages (from stack-data->ipython>=7.23.1->ipykernel->vpython) (1.2.0)\n",
      "Requirement already satisfied: pure-eval in c:\\users\\olivi\\appdata\\local\\packages\\pythonsoftwarefoundation.python.3.9_qbz5n2kfra8p0\\localcache\\local-packages\\python39\\site-packages (from stack-data->ipython>=7.23.1->ipykernel->vpython) (0.2.2)\n",
      "Requirement already satisfied: asttokens>=2.1.0 in c:\\users\\olivi\\appdata\\local\\packages\\pythonsoftwarefoundation.python.3.9_qbz5n2kfra8p0\\localcache\\local-packages\\python39\\site-packages (from stack-data->ipython>=7.23.1->ipykernel->vpython) (2.2.1)\n",
      "Requirement already satisfied: pyrsistent!=0.17.0,!=0.17.1,!=0.17.2,>=0.14.0 in c:\\users\\olivi\\appdata\\local\\packages\\pythonsoftwarefoundation.python.3.9_qbz5n2kfra8p0\\localcache\\local-packages\\python39\\site-packages (from jsonschema[format-nongpl]>=4.3.0->jupyter-events>=0.4.0->jupyter-server>=1.24.0->jupyter-server-proxy->vpython) (0.19.2)\n",
      "Requirement already satisfied: rfc3339-validator in c:\\users\\olivi\\appdata\\local\\packages\\pythonsoftwarefoundation.python.3.9_qbz5n2kfra8p0\\localcache\\local-packages\\python39\\site-packages (from jsonschema[format-nongpl]>=4.3.0->jupyter-events>=0.4.0->jupyter-server>=1.24.0->jupyter-server-proxy->vpython) (0.1.4)\n",
      "Requirement already satisfied: jsonpointer>1.13 in c:\\users\\olivi\\appdata\\local\\packages\\pythonsoftwarefoundation.python.3.9_qbz5n2kfra8p0\\localcache\\local-packages\\python39\\site-packages (from jsonschema[format-nongpl]>=4.3.0->jupyter-events>=0.4.0->jupyter-server>=1.24.0->jupyter-server-proxy->vpython) (2.3)\n",
      "Requirement already satisfied: rfc3986-validator>0.1.0 in c:\\users\\olivi\\appdata\\local\\packages\\pythonsoftwarefoundation.python.3.9_qbz5n2kfra8p0\\localcache\\local-packages\\python39\\site-packages (from jsonschema[format-nongpl]>=4.3.0->jupyter-events>=0.4.0->jupyter-server>=1.24.0->jupyter-server-proxy->vpython) (0.1.1)\n",
      "Requirement already satisfied: fqdn in c:\\users\\olivi\\appdata\\local\\packages\\pythonsoftwarefoundation.python.3.9_qbz5n2kfra8p0\\localcache\\local-packages\\python39\\site-packages (from jsonschema[format-nongpl]>=4.3.0->jupyter-events>=0.4.0->jupyter-server>=1.24.0->jupyter-server-proxy->vpython) (1.5.1)\n",
      "Requirement already satisfied: webcolors>=1.11 in c:\\users\\olivi\\appdata\\local\\packages\\pythonsoftwarefoundation.python.3.9_qbz5n2kfra8p0\\localcache\\local-packages\\python39\\site-packages (from jsonschema[format-nongpl]>=4.3.0->jupyter-events>=0.4.0->jupyter-server>=1.24.0->jupyter-server-proxy->vpython) (1.12)\n",
      "Requirement already satisfied: isoduration in c:\\users\\olivi\\appdata\\local\\packages\\pythonsoftwarefoundation.python.3.9_qbz5n2kfra8p0\\localcache\\local-packages\\python39\\site-packages (from jsonschema[format-nongpl]>=4.3.0->jupyter-events>=0.4.0->jupyter-server>=1.24.0->jupyter-server-proxy->vpython) (20.11.0)\n",
      "Requirement already satisfied: uri-template in c:\\users\\olivi\\appdata\\local\\packages\\pythonsoftwarefoundation.python.3.9_qbz5n2kfra8p0\\localcache\\local-packages\\python39\\site-packages (from jsonschema[format-nongpl]>=4.3.0->jupyter-events>=0.4.0->jupyter-server>=1.24.0->jupyter-server-proxy->vpython) (1.2.0)\n",
      "Requirement already satisfied: arrow>=0.15.0 in c:\\users\\olivi\\appdata\\local\\packages\\pythonsoftwarefoundation.python.3.9_qbz5n2kfra8p0\\localcache\\local-packages\\python39\\site-packages (from isoduration->jsonschema[format-nongpl]>=4.3.0->jupyter-events>=0.4.0->jupyter-server>=1.24.0->jupyter-server-proxy->vpython) (1.2.3)\n",
      "Installing collected packages: vpython\n",
      "Successfully installed vpython-7.6.5\n"
     ]
    },
    {
     "name": "stderr",
     "output_type": "stream",
     "text": [
      "WARNING: You are using pip version 22.0.4; however, version 25.0 is available.\n",
      "You should consider upgrading via the 'C:\\Users\\olivi\\AppData\\Local\\Microsoft\\WindowsApps\\PythonSoftwareFoundation.Python.3.9_qbz5n2kfra8p0\\python.exe -m pip install --upgrade pip' command.\n"
     ]
    }
   ],
   "source": [
    "!pip install vpython --upgrade"
   ]
  },
  {
   "cell_type": "code",
   "execution_count": 37,
   "metadata": {},
   "outputs": [
    {
     "name": "stdout",
     "output_type": "stream",
     "text": [
      "Name: vpython\n",
      "Version: 7.6.5\n",
      "Summary: VPython for Jupyter Notebook\n",
      "Home-page: http://pypi.python.org/pypi/vpython/\n",
      "Author: John Coady / Ruth Chabay / Bruce Sherwood / Steve Spicklemire\n",
      "Author-email: bruce.sherwood@gmail.com\n",
      "License: LICENSE.txt\n",
      "Location: c:\\users\\olivi\\appdata\\local\\packages\\pythonsoftwarefoundation.python.3.9_qbz5n2kfra8p0\\localcache\\local-packages\\python39\\site-packages\n",
      "Requires: autobahn, ipykernel, jupyter, jupyter-server-proxy, jupyterlab-vpython, numpy\n",
      "Required-by: \n"
     ]
    }
   ],
   "source": [
    "!pip show vpython"
   ]
  },
  {
   "cell_type": "code",
   "execution_count": 44,
   "metadata": {},
   "outputs": [
    {
     "data": {
      "text/html": [
       "<div id=\"glowscript\" class=\"glowscript\"></div>"
      ],
      "text/plain": [
       "<IPython.core.display.HTML object>"
      ]
     },
     "metadata": {},
     "output_type": "display_data"
    },
    {
     "data": {
      "application/javascript": "if (typeof Jupyter !== \"undefined\") { window.__context = { glowscript_container: $(\"#glowscript\").removeAttr(\"id\")};}else{ element.textContent = ' ';}",
      "text/plain": [
       "<IPython.core.display.Javascript object>"
      ]
     },
     "metadata": {},
     "output_type": "display_data"
    },
    {
     "data": {
      "application/javascript": "if (typeof Jupyter !== \"undefined\") {require.undef(\"nbextensions/vpython_libraries/glow.min\");}else{element.textContent = ' ';}",
      "text/plain": [
       "<IPython.core.display.Javascript object>"
      ]
     },
     "metadata": {},
     "output_type": "display_data"
    },
    {
     "data": {
      "application/javascript": "if (typeof Jupyter !== \"undefined\") {require.undef(\"nbextensions/vpython_libraries/glowcomm\");}else{element.textContent = ' ';}",
      "text/plain": [
       "<IPython.core.display.Javascript object>"
      ]
     },
     "metadata": {},
     "output_type": "display_data"
    },
    {
     "data": {
      "application/javascript": "if (typeof Jupyter !== \"undefined\") {require.undef(\"nbextensions/vpython_libraries/jquery-ui.custom.min\");}else{element.textContent = ' ';}",
      "text/plain": [
       "<IPython.core.display.Javascript object>"
      ]
     },
     "metadata": {},
     "output_type": "display_data"
    },
    {
     "data": {
      "application/javascript": "if (typeof Jupyter !== \"undefined\") {require([\"nbextensions/vpython_libraries/glow.min\"], function(){console.log(\"GLOW LOADED\");});}else{element.textContent = ' ';}",
      "text/plain": [
       "<IPython.core.display.Javascript object>"
      ]
     },
     "metadata": {},
     "output_type": "display_data"
    },
    {
     "data": {
      "application/javascript": "if (typeof Jupyter !== \"undefined\") {require([\"nbextensions/vpython_libraries/glowcomm\"], function(){console.log(\"GLOWCOMM LOADED\");});}else{element.textContent = ' ';}",
      "text/plain": [
       "<IPython.core.display.Javascript object>"
      ]
     },
     "metadata": {},
     "output_type": "display_data"
    },
    {
     "data": {
      "application/javascript": "if (typeof Jupyter !== \"undefined\") {require([\"nbextensions/vpython_libraries/jquery-ui.custom.min\"], function(){console.log(\"JQUERY LOADED\");});}else{element.textContent = ' ';}",
      "text/plain": [
       "<IPython.core.display.Javascript object>"
      ]
     },
     "metadata": {},
     "output_type": "display_data"
    },
    {
     "ename": "KeyboardInterrupt",
     "evalue": "",
     "output_type": "error",
     "traceback": [
      "\u001b[1;31m---------------------------------------------------------------------------\u001b[0m",
      "\u001b[1;31mKeyboardInterrupt\u001b[0m                         Traceback (most recent call last)",
      "Cell \u001b[1;32mIn[44], line 3\u001b[0m\n\u001b[0;32m      1\u001b[0m \u001b[38;5;28;01mimport\u001b[39;00m \u001b[38;5;21;01msys\u001b[39;00m\n\u001b[0;32m      2\u001b[0m sys\u001b[38;5;241m.\u001b[39mpath\u001b[38;5;241m.\u001b[39mappend(\u001b[38;5;124m\"\u001b[39m\u001b[38;5;124mPHY-3003/\u001b[39m\u001b[38;5;124m\"\u001b[39m)\n\u001b[1;32m----> 3\u001b[0m \u001b[38;5;28;01mimport\u001b[39;00m \u001b[38;5;21;01mtds2Danimation_h25\u001b[39;00m\n\u001b[0;32m      4\u001b[0m \u001b[38;5;28;01mfrom\u001b[39;00m \u001b[38;5;21;01mvpython\u001b[39;00m \u001b[38;5;28;01mimport\u001b[39;00m \u001b[38;5;241m*\u001b[39m\n\u001b[0;32m      5\u001b[0m scene \u001b[38;5;241m=\u001b[39m canvas(width\u001b[38;5;241m=\u001b[39m\u001b[38;5;241m750\u001b[39m, height\u001b[38;5;241m=\u001b[39m\u001b[38;5;241m500\u001b[39m)\n",
      "File \u001b[1;32mc:\\Users\\olivi\\Desktop\\Devoirs\\PhysElectronique\\phys_electronique\\PHY-3003\\tds2Danimation_h25.py:43\u001b[0m\n\u001b[0;32m     41\u001b[0m d \u001b[38;5;241m=\u001b[39m L\u001b[38;5;241m/\u001b[39m\u001b[38;5;241m2\u001b[39m\u001b[38;5;241m+\u001b[39mRatom\n\u001b[0;32m     42\u001b[0m r \u001b[38;5;241m=\u001b[39m \u001b[38;5;241m0.005\u001b[39m\n\u001b[1;32m---> 43\u001b[0m cadre \u001b[38;5;241m=\u001b[39m \u001b[43mcurve\u001b[49m\u001b[43m(\u001b[49m\u001b[43mcolor\u001b[49m\u001b[38;5;241;43m=\u001b[39;49m\u001b[43mgray\u001b[49m\u001b[43m,\u001b[49m\u001b[43m \u001b[49m\u001b[43mradius\u001b[49m\u001b[38;5;241;43m=\u001b[39;49m\u001b[43mr\u001b[49m\u001b[43m)\u001b[49m\n\u001b[0;32m     44\u001b[0m cadre\u001b[38;5;241m.\u001b[39mappend([vector(\u001b[38;5;241m-\u001b[39md,\u001b[38;5;241m-\u001b[39md,\u001b[38;5;241m0\u001b[39m), vector(d,\u001b[38;5;241m-\u001b[39md,\u001b[38;5;241m0\u001b[39m), vector(d,d,\u001b[38;5;241m0\u001b[39m), vector(\u001b[38;5;241m-\u001b[39md,d,\u001b[38;5;241m0\u001b[39m), vector(\u001b[38;5;241m-\u001b[39md,\u001b[38;5;241m-\u001b[39md,\u001b[38;5;241m0\u001b[39m)])\n\u001b[0;32m     46\u001b[0m \u001b[38;5;66;03m#### POSITION ET QUANTITÉ DE MOUVEMENT INITIALE DES SPHÈRES ####\u001b[39;00m\n",
      "File \u001b[1;32m~\\AppData\\Local\\Packages\\PythonSoftwareFoundation.Python.3.9_qbz5n2kfra8p0\\LocalCache\\local-packages\\Python39\\site-packages\\vpython\\vpython.py:2069\u001b[0m, in \u001b[0;36mcurve.__init__\u001b[1;34m(self, *args1, **args)\u001b[0m\n\u001b[0;32m   2066\u001b[0m     tpos \u001b[38;5;241m=\u001b[39m args[\u001b[38;5;124m'\u001b[39m\u001b[38;5;124mpos\u001b[39m\u001b[38;5;124m'\u001b[39m]\n\u001b[0;32m   2067\u001b[0m     \u001b[38;5;28;01mdel\u001b[39;00m args[\u001b[38;5;124m'\u001b[39m\u001b[38;5;124mpos\u001b[39m\u001b[38;5;124m'\u001b[39m]\n\u001b[1;32m-> 2069\u001b[0m \u001b[38;5;28;43msuper\u001b[39;49m\u001b[43m(\u001b[49m\u001b[43mcurveMethods\u001b[49m\u001b[43m,\u001b[49m\u001b[43m \u001b[49m\u001b[38;5;28;43mself\u001b[39;49m\u001b[43m)\u001b[49m\u001b[38;5;241;43m.\u001b[39;49m\u001b[43msetup\u001b[49m\u001b[43m(\u001b[49m\u001b[43margs\u001b[49m\u001b[43m)\u001b[49m\n\u001b[0;32m   2071\u001b[0m \u001b[38;5;28;01mif\u001b[39;00m tpos \u001b[38;5;129;01mis\u001b[39;00m \u001b[38;5;129;01mnot\u001b[39;00m \u001b[38;5;28;01mNone\u001b[39;00m:\n\u001b[0;32m   2072\u001b[0m     \u001b[38;5;28;01mif\u001b[39;00m \u001b[38;5;28mlen\u001b[39m(args1) \u001b[38;5;241m>\u001b[39m \u001b[38;5;241m0\u001b[39m: \u001b[38;5;28;01mraise\u001b[39;00m \u001b[38;5;167;01mAttributeError\u001b[39;00m(\u001b[38;5;124m'\u001b[39m\u001b[38;5;124mMalformed constructor\u001b[39m\u001b[38;5;124m'\u001b[39m)\n",
      "File \u001b[1;32m~\\AppData\\Local\\Packages\\PythonSoftwareFoundation.Python.3.9_qbz5n2kfra8p0\\LocalCache\\local-packages\\Python39\\site-packages\\vpython\\vpython.py:612\u001b[0m, in \u001b[0;36mstandardAttributes.setup\u001b[1;34m(self, args)\u001b[0m\n\u001b[0;32m    611\u001b[0m \u001b[38;5;28;01mdef\u001b[39;00m \u001b[38;5;21msetup\u001b[39m(\u001b[38;5;28mself\u001b[39m, args):\n\u001b[1;32m--> 612\u001b[0m     \u001b[38;5;28;43msuper\u001b[39;49m\u001b[43m(\u001b[49m\u001b[43mstandardAttributes\u001b[49m\u001b[43m,\u001b[49m\u001b[43m \u001b[49m\u001b[38;5;28;43mself\u001b[39;49m\u001b[43m)\u001b[49m\u001b[38;5;241;43m.\u001b[39;49m\u001b[38;5;21;43m__init__\u001b[39;49m\u001b[43m(\u001b[49m\u001b[43m)\u001b[49m\n\u001b[0;32m    613\u001b[0m     \u001b[38;5;28mself\u001b[39m\u001b[38;5;241m.\u001b[39m_constructing \u001b[38;5;241m=\u001b[39m \u001b[38;5;28;01mTrue\u001b[39;00m  \u001b[38;5;66;03m## calls to setters are from constructor\u001b[39;00m\n\u001b[0;32m    615\u001b[0m     objName \u001b[38;5;241m=\u001b[39m \u001b[38;5;28mself\u001b[39m\u001b[38;5;241m.\u001b[39m_objName \u001b[38;5;241m=\u001b[39m args[\u001b[38;5;124m'\u001b[39m\u001b[38;5;124m_objName\u001b[39m\u001b[38;5;124m'\u001b[39m]  \u001b[38;5;66;03m## identifies object type\u001b[39;00m\n",
      "File \u001b[1;32m~\\AppData\\Local\\Packages\\PythonSoftwareFoundation.Python.3.9_qbz5n2kfra8p0\\LocalCache\\local-packages\\Python39\\site-packages\\vpython\\vpython.py:265\u001b[0m, in \u001b[0;36mbaseObj.__init__\u001b[1;34m(self, **kwargs)\u001b[0m\n\u001b[0;32m    262\u001b[0m \u001b[38;5;28;01mif\u001b[39;00m \u001b[38;5;129;01mnot\u001b[39;00m (baseObj\u001b[38;5;241m.\u001b[39m_view_constructed \u001b[38;5;129;01mor\u001b[39;00m\n\u001b[0;32m    263\u001b[0m         baseObj\u001b[38;5;241m.\u001b[39m_canvas_constructing):\n\u001b[0;32m    264\u001b[0m     \u001b[38;5;28;01mif\u001b[39;00m _isnotebook:\n\u001b[1;32m--> 265\u001b[0m         \u001b[38;5;28;01mfrom\u001b[39;00m \u001b[38;5;21;01m.\u001b[39;00m\u001b[38;5;21;01mwith_notebook\u001b[39;00m \u001b[38;5;28;01mimport\u001b[39;00m _\n\u001b[0;32m    266\u001b[0m     \u001b[38;5;28;01melse\u001b[39;00m:\n\u001b[0;32m    267\u001b[0m         \u001b[38;5;28;01mfrom\u001b[39;00m \u001b[38;5;21;01m.\u001b[39;00m\u001b[38;5;21;01mno_notebook\u001b[39;00m \u001b[38;5;28;01mimport\u001b[39;00m _\n",
      "File \u001b[1;32m~\\AppData\\Local\\Packages\\PythonSoftwareFoundation.Python.3.9_qbz5n2kfra8p0\\LocalCache\\local-packages\\Python39\\site-packages\\vpython\\with_notebook.py:154\u001b[0m\n\u001b[0;32m    152\u001b[0m baseObj\u001b[38;5;241m.\u001b[39mglow \u001b[38;5;241m=\u001b[39m GlowWidget(wsport\u001b[38;5;241m=\u001b[39m__SOCKET_PORT, wsuri\u001b[38;5;241m=\u001b[39m\u001b[38;5;124m'\u001b[39m\u001b[38;5;124m/ws\u001b[39m\u001b[38;5;124m'\u001b[39m)\n\u001b[0;32m    153\u001b[0m \u001b[38;5;28;01mwhile\u001b[39;00m (\u001b[38;5;129;01mnot\u001b[39;00m wsConnected):\n\u001b[1;32m--> 154\u001b[0m     \u001b[43mtime\u001b[49m\u001b[38;5;241;43m.\u001b[39;49m\u001b[43msleep\u001b[49m\u001b[43m(\u001b[49m\u001b[38;5;241;43m0.1\u001b[39;49m\u001b[43m)\u001b[49m          \u001b[38;5;66;03m# wait for websocket to connect\u001b[39;00m\n\u001b[0;32m    156\u001b[0m baseObj\u001b[38;5;241m.\u001b[39mtrigger()  \u001b[38;5;66;03m# start the trigger ping-pong process\u001b[39;00m\n\u001b[0;32m    159\u001b[0m \u001b[38;5;66;03m# Same justification as above for removing the ipykernel check.\u001b[39;00m\n\u001b[0;32m    160\u001b[0m \u001b[38;5;66;03m# There was also an IPython version check for >=4, which was\u001b[39;00m\n\u001b[0;32m    161\u001b[0m \u001b[38;5;66;03m# released in Nov 2015. Ok to stop supporting in 2.019 I think.\u001b[39;00m\n",
      "\u001b[1;31mKeyboardInterrupt\u001b[0m: "
     ]
    }
   ],
   "source": [
    "import sys\n",
    "sys.path.append(\"PHY-3003/\")\n",
    "import tds2Danimation_h25\n",
    "from vpython import *\n",
    "scene = canvas(width=750, height=500)\n",
    "print(\"test0\")\n",
    "\n",
    "gray = color.gray(0.7)\n",
    "print(\"test1\")\n",
    "\n",
    "r = 0.005\n",
    "scene.waitfor('draw')\n",
    "cadre = curve(color=gray, radius=r)\n",
    "scene.waitfor('draw')  # Force VPython to update rendering\n",
    "print(\"test2\")\n",
    "%run tds2Danimation_h25.py\n",
    "# ou\n",
    "#%run tds3Dsim_h25.py #si disponible : script sans la lente animation Vpython qui est en développement à la session h25!\n",
    "# Remplacez \"XX\" par les deux derniers chiffres de l'année de votre session.\n",
    "# N'hésitez pas à exécuter l'animation 2D ou la simulation 3D à l'extérieur du _Notebook_. Cette cellule vise à préciser que les questions qui suivent se basent sur ces scripts et doivent mener aux mêmes répomses autant en 2D qu'en 3D."
   ]
  },
  {
   "cell_type": "markdown",
   "metadata": {},
   "source": [
    "### Questions statistiques ###"
   ]
  },
  {
   "cell_type": "markdown",
   "metadata": {},
   "source": [
    "**I.** _(3 points)_  &mdash; Utilisez la liste finale des vecteurs de quantité de mouvement $\\vec{p}$ de toutes les sphères pour calculer la moyenne de son carré $\\langle p^2\\rangle=\\langle\\vec{p}\\cdot\\vec{p}\\rangle$ en écrivant le code nécessaire dans la cellule qui suit. "
   ]
  },
  {
   "cell_type": "code",
   "execution_count": 45,
   "metadata": {},
   "outputs": [
    {
     "name": "stdout",
     "output_type": "stream",
     "text": [
      "<p2> = 6.626815216053492e-24\n"
     ]
    }
   ],
   "source": [
    "from vpython import *\n",
    "import numpy as np\n",
    "import math\n",
    "# Liste finale: \n",
    "p = [vector(3.79582e-24, 8.45879e-25, 0), vector(2.16392e-24, 9.0302e-25, 0), vector(-1.01736e-23, -3.35425e-24, 0), vector(2.262e-24, -8.0439e-24, 0), vector(-5.49688e-24, 2.77836e-25, 0), vector(-2.90013e-25, 4.31574e-24, 0), vector(2.31352e-24, 2.60506e-24, 0), vector(1.68645e-24, -5.70361e-25, 0), vector(-4.2997e-24, -2.0852e-24, 0), vector(-3.82286e-24, -2.43465e-24, 0), vector(-2.18405e-24, \n",
    "3.48213e-24, 0), vector(-7.38841e-24, -2.61265e-24, 0), vector(-7.32636e-24, 8.75789e-25, 0), vector(-1.78955e-24, -2.44455e-24, 0), vector(-3.96543e-24, 1.29265e-24, 0), vector(4.97592e-25, -6.8644e-24, 0), vector(4.95797e-24, 6.40349e-24, 0), vector(-5.57012e-24, 4.7755e-24, 0), vector(4.61965e-24, -1.32001e-26, 0), vector(2.92785e-24, -4.82939e-24, 0), vector(2.74319e-24, 3.45827e-24, 0), vector(-6.17274e-24, -4.58419e-25, 0), vector(2.21163e-24, 6.27744e-24, 0), vector(4.49863e-24, -1.97276e-24, 0), vector(-6.06623e-24, 1.93499e-24, 0), vector(3.97536e-24, 3.43462e-25, 0), vector(2.35772e-24, 8.88683e-24, 0), vector(2.14196e-24, 5.55467e-24, 0), vector(-4.3016e-24, -1.41214e-24, 0), vector(-1.6989e-24, 6.92909e-24, 0), vector(-3.47446e-24, -1.42798e-24, 0), vector(-2.64566e-24, 1.74055e-24, 0), vector(5.97148e-24, -4.97781e-24, 0), vector(3.49935e-24, 7.5248e-24, 0), vector(3.11406e-24, -1.16002e-23, 0), vector(6.85033e-24, -6.78565e-24, 0), vector(6.17386e-24, 1.05212e-23, 0), vector(3.1784e-24, -4.15766e-24, 0), vector(2.82858e-24, -2.6851e-24, 0), vector(1.41135e-24, -4.50481e-24, 0), vector(1.32369e-24, -3.31018e-24, 0), vector(-4.57305e-24, -7.48731e-24, 0), vector(4.49108e-24, 3.05029e-24, 0), vector(-1.20703e-23, 7.83298e-24, 0), vector(2.81798e-24, -8.27531e-24, 0), vector(-2.26302e-24, 1.31758e-24, 0), vector(8.47524e-24, -6.47226e-24, 0), vector(-1.06462e-24, 1.51899e-23, 0), vector(-6.93594e-24, -5.14232e-24, 0), vector(3.73098e-24, -8.45251e-25, 0), vector(2.71807e-24, -2.86799e-24, 0), vector(-1.55012e-24, -4.66944e-24, 0), vector(2.85303e-24, -4.60957e-24, 0), vector(-1.68344e-24, 2.64711e-24, 0), vector(-1.61338e-23, 3.52651e-24, 0), vector(-3.91495e-24, -4.18074e-24, 0), vector(-6.87997e-25, -3.0735e-24, 0), vector(9.39436e-24, -8.15635e-24, 0), vector(8.86427e-25, -2.06784e-24, 0), vector(5.9341e-24, 1.2067e-24, 0), vector(-7.05324e-24, 2.34273e-24, 0), vector(1.01227e-24, -1.44176e-23, 0), vector(-6.45898e-24, 6.399e-24, 0), vector(2.72e-25, -1.22991e-25, 0), vector(-3.09749e-24, -3.09395e-26, 0), vector(-1.11869e-24, 4.78998e-24, 0), vector(4.88313e-24, -1.77886e-24, 0), vector(2.80639e-24, 8.4654e-24, 0), vector(-1.07611e-25, -7.58024e-24, 0), vector(-8.88111e-24, 6.4478e-24, 0), vector(7.50788e-24, -3.34929e-24, 0), vector(-4.56975e-24, -8.93717e-24, 0), vector(7.22566e-24, -1.28435e-24, 0), vector(-7.54299e-25, -6.86345e-24, 0), vector(-7.97815e-24, 9.64538e-24, 0), vector(5.81504e-24, -1.5909e-24, 0), vector(-6.61142e-25, -1.51321e-24, 0), vector(-4.25067e-24, -4.21438e-25, 0), vector(1.19404e-25, 6.31962e-24, 0), vector(6.5581e-24, -1.27744e-23, 0), vector(-1.01295e-23, -3.7623e-24, 0), vector(-1.96438e-24, -3.88465e-25, 0), vector(1.09658e-23, -6.05838e-24, 0), vector(3.77208e-24, -2.42704e-24, 0), vector(-7.64067e-25, 7.19698e-24, 0), vector(-4.36918e-24, 2.57603e-24, 0), vector(-1.96677e-25, -8.73089e-24, 0), vector(6.87471e-24, 2.43483e-24, 0), vector(1.80786e-24, -1.20353e-24, 0), vector(3.0731e-24, 8.84617e-24, 0), vector(4.56275e-24, 5.9733e-24, 0), vector(1.11981e-23, -1.18265e-23, 0), vector(-2.38126e-24, -5.75371e-24, 0), vector(-9.49582e-25, 1.01804e-23, 0), vector(-1.21111e-23, 1.54118e-24, 0), vector(2.72091e-24, 3.64891e-24, 0), vector(2.71418e-24, 1.80927e-24, 0), vector(-5.28518e-25, 1.72786e-24, 0), vector(-5.39476e-25, -4.79082e-24, 0), vector(7.23221e-25, -3.6929e-24, 0), vector(8.00695e-24, 5.43313e-24, 0), vector(-3.31251e-24, -1.38621e-23, 0), vector(-1.75268e-24, -2.52754e-24, 0), vector(1.45403e-23, -5.04777e-24, 0), vector(5.2087e-24, 5.55542e-24, 0), vector(-5.11564e-24, 4.31169e-24, 0), vector(4.27962e-24, 2.51614e-24, 0), vector(-3.33907e-24, -3.51775e-24, 0), vector(-3.45295e-25, 1.53218e-24, 0), vector(-3.68158e-24, 4.18767e-25, 0), vector(7.13389e-25, -6.65113e-24, 0), vector(4.91084e-24, 2.62662e-24, 0), vector(-8.71396e-24, 8.39121e-24, 0), vector(-8.24504e-25, -7.14749e-24, 0), vector(1.93975e-24, 8.66503e-25, 0), vector(-1.51245e-24, -4.96446e-24, 0), vector(3.84079e-24, -6.01414e-24, 0), vector(3.09614e-24, -2.77359e-26, 0), vector(1.91375e-24, 4.08399e-24, 0), vector(8.73589e-25, -7.90221e-24, 0), vector(2.16792e-24, \n",
    "6.01606e-24, 0), vector(-6.92655e-24, 2.20773e-25, 0), vector(-4.87596e-24, -6.6583e-24, 0), vector(-4.44985e-24, 8.54007e-25, 0), vector(1.95263e-24, -1.55847e-24, 0), vector(8.31298e-24, -5.79556e-24, 0), vector(-5.97344e-24, 4.80196e-24, 0), vector(-6.11256e-24, 2.81625e-24, 0), vector(-9.21402e-24, 4.03049e-24, 0), vector(-3.78243e-24, -1.42545e-24, 0), vector(-3.06928e-24, 2.17431e-24, 0), vector(2.05079e-24, 1.25409e-23, 0), vector(-7.01084e-24, -3.57538e-24, 0), vector(-8.83363e-24, -7.00078e-24, 0), vector(-1.04623e-24, -8.64218e-24, 0), vector(1.59082e-24, 1.1157e-23, 0), vector(3.03228e-26, 4.97438e-24, 0), vector(-9.15278e-24, -4.26664e-24, 0), vector(-9.15489e-25, -1.90965e-24, 0), vector(-2.81468e-25, 4.06314e-24, 0), vector(1.05632e-23, -5.82675e-24, 0), vector(6.122e-24, 3.66772e-24, 0), vector(7.68389e-24, -6.35908e-24, 0), vector(1.92416e-24, -5.10259e-25, 0), vector(2.91905e-24, -4.78131e-24, 0), vector(1.01583e-23, -7.74551e-24, 0), vector(7.53685e-24, 6.92167e-24, 0), vector(3.58897e-24, 2.32252e-24, 0), vector(-3.24462e-24, 5.20319e-24, 0), vector(-7.37932e-25, 1.02133e-24, 0), vector(5.59799e-24, -6.74125e-24, 0), vector(3.08444e-24, 5.16122e-24, 0), vector(-2.69687e-24, 2.09614e-24, 0), vector(-2.56864e-24, 9.60533e-24, 0), vector(1.69923e-24, -6.56893e-24, 0), vector(-1.21817e-23, 6.82182e-24, 0), vector(-1.0059e-23, -3.12726e-24, 0), vector(3.77817e-24, -4.41187e-24, 0), vector(-1.25779e-24, -6.83793e-24, 0), vector(1.3509e-23, 2.08312e-24, 0), vector(-8.74665e-24, 7.56337e-24, 0), vector(-1.49044e-24, -3.40013e-24, 0), vector(7.9202e-24, 7.35111e-25, 0), vector(9.50139e-24, 5.61415e-24, 0), vector(-3.22008e-24, -7.93057e-25, 0), vector(6.38212e-24, 4.36174e-24, 0), vector(2.53223e-24, -8.33639e-24, 0), vector(1.58684e-24, -8.7515e-25, 0), vector(-6.80089e-25, -4.03067e-24, 0), vector(2.92529e-24, 6.06243e-24, 0), vector(-2.22254e-24, 2.01316e-24, 0), vector(8.95008e-24, 5.53802e-25, 0), vector(-3.93877e-24, 4.71167e-24, \n",
    "0), vector(5.50548e-24, 1.50095e-24, 0), vector(-8.55582e-24, 4.28504e-24, 0), vector(4.82206e-24, 6.49536e-25, 0), vector(1.51852e-24, 1.32677e-24, 0), vector(1.57349e-24, -1.21664e-24, 0), vector(2.29523e-24, 1.89392e-24, 0), vector(-1.00936e-24, 7.59643e-24, 0), vector(-2.35916e-24, -8.21555e-24, 0), vector(-1.92312e-24, 2.78122e-24, 0), vector(-4.36502e-24, 4.23129e-24, 0), vector(1.77958e-24, -3.56468e-24, 0), vector(1.4122e-24, 1.25662e-24, 0), vector(6.57859e-24, -6.09556e-24, 0), vector(4.80034e-24, 3.75545e-24, 0), vector(4.88434e-24, 1.4326e-24, 0), vector(6.53811e-25, 1.4486e-24, 0), vector(2.40194e-24, 5.64563e-24, 0), vector(-5.82941e-24, -6.78753e-25, 0), vector(-1.2791e-25, 1.4376e-24, 0), vector(-8.42201e-25, 2.33816e-24, 0), vector(1.38671e-24, 3.25286e-25, 0), vector(4.1512e-25, -2.71768e-24, 0), vector(-1.98428e-24, 6.43297e-25, 0), vector(3.73542e-24, 1.00089e-24, 0), vector(-3.6915e-24, -5.91881e-24, 0), vector(2.39402e-24, 4.90057e-24, 0), vector(-3.04599e-24, 1.2339e-23, 0)]\n",
    "\n",
    "mag_list = []\n",
    "for vec in p:\n",
    "    mag_list.append(vec.mag)\n",
    "p2_moy = np.mean(mag_list)\n",
    "print(f\"<p2> = {p2_moy}\")"
   ]
  },
  {
   "cell_type": "markdown",
   "metadata": {},
   "source": [
    "\n",
    "**II.** _(2 points)_  &mdash; La température $T$ (macroscopique) est proportionnelle à l'énergie cinétique moyenne $E_{cin}$ de l'ensemble des particules lorsque ce système est rendu à l'équilibre. Celle-ci peut se calculer classiquement selon son <a href=\"https://fr.wikipedia.org/wiki/%C3%89quipartition_de_l%27%C3%A9nergie\">principe d'équipartition</a>, _i.e._ en répartissant l'énergie également sur chaque degré de liberté ici en translation seulement d'où, au total pour $\\text{DIM}=1,2\\text{ ou } 3$ dimensions d'espace réel,\n",
    "\\begin{equation}\n",
    "E_{cin}=\\frac{\\langle p^2 \\rangle}{2m}=\\text{DIM}\\times\\frac{1}{2}k_BT\n",
    "\\end{equation}\n",
    "avec $k_B$, la constante de Boltzmann et $m$, la masse de chaque particule. Quelle est la température du gaz de sphères dures à la fin de la simulation? Est-ce qu'elle a changé significativement par rapport à sa valeur initiale?"
   ]
  },
  {
   "cell_type": "code",
   "execution_count": 52,
   "metadata": {},
   "outputs": [
    {
     "name": "stdout",
     "output_type": "stream",
     "text": [
      "3.5500795800286566e+25\n"
     ]
    }
   ],
   "source": [
    "DIM = 2 #Nombre de degrés de liberté de la simulation \n",
    "mass = 4E-3/6E23 # helium mass\n",
    "k = 1.4E-23 # Boltzmann constant\n",
    "T_initiale = 300 # around room temperature\n",
    "def temperature(p2):\n",
    "    return p2/(mass*DIM*k)\n",
    "T_finale = temperature(p2_moy)\n",
    "\n",
    "print(f\"Température initiale: {T_initiale}\")\n",
    "print(f\"Température finale: {T_finale}\")"
   ]
  },
  {
   "cell_type": "markdown",
   "metadata": {
    "nteract": {
     "transient": {
      "deleting": false
     }
    }
   },
   "source": [
    "**III.** _(10 points)_ &mdash; Modifiez le code de la simulation pour ajouter une fonction qui suit la trajectoire d'UNE SEULE particule, c'est-à-dire qu'elle doit enregistrer, dans une liste, des valeurs de variables pour cette particule et ce, à chacune de ses collisions avec une autre particule (_i.e._ excluez les collisions avec les parois de la boîte). Les deux variables scalaires à lister sont:\n",
    "- la distance que la particule a parcouru entre chaque collision,\n",
    "- le temps écoulé entre ces collisions.\n",
    "\n",
    "Copiez le code de votre fonction dans la cellule qui suit en y commentant clairement les variables pour ces listes qui devront persister après avoir interrompu l'exécution de la simulation. N'oubliez pas d'inclure votre fichier Python (`.py`) modifié avec la simulation complète lors de la remise."
   ]
  },
  {
   "cell_type": "code",
   "execution_count": null,
   "metadata": {
    "nteract": {
     "transient": {
      "deleting": false
     }
    }
   },
   "outputs": [],
   "source": [
    "\n",
    "#"
   ]
  },
  {
   "cell_type": "markdown",
   "metadata": {
    "nteract": {
     "transient": {
      "deleting": false
     }
    }
   },
   "source": [
    "**IV.** _(2 points)_ &mdash; Calculez le **libre parcours moyen** $l_{moy}$ et le **temps de collision** $\\tau$ qui sont les valeurs moyennes des deux listes compilées au numéro précédent.\n",
    "\n",
    "_(Pour votre information, le libre parcours moyen est de l’ordre de 100 nm dans l'air à température et pression ambiantes, mais_ $l_{moy}$ _peut dépasser 100 000 km dans une enceinte sous vide avec les technologies de pompes modernes!)_\n",
    "\n"
   ]
  },
  {
   "cell_type": "code",
   "execution_count": null,
   "metadata": {
    "nteract": {
     "transient": {
      "deleting": false
     }
    }
   },
   "outputs": [],
   "source": [
    "\n",
    "#"
   ]
  },
  {
   "cell_type": "markdown",
   "metadata": {
    "nteract": {
     "transient": {
      "deleting": false
     }
    }
   },
   "source": [
    "**V.** _(2 points)_ Calculez la vitesse $\\vec{v}$ de la particule entre chaque paire de collisions. Quelle est la vitesse moyenne $\\langle\\vec{v}\\rangle$ de la particule?"
   ]
  },
  {
   "cell_type": "code",
   "execution_count": null,
   "metadata": {
    "nteract": {
     "transient": {
      "deleting": false
     }
    }
   },
   "outputs": [],
   "source": [
    "\n",
    "#"
   ]
  },
  {
   "cell_type": "markdown",
   "metadata": {
    "nteract": {
     "transient": {
      "deleting": false
     }
    }
   },
   "source": [
    "**VI.** _(5 points)_ &mdash; Pour cette même liste de vitesses, comparez les distributions de la norme $||\\vec{v}||$, du carré $v^2$ et d’une de ses composantes $v_x^2$ en étalonnant l’abscisse pour contraster les histogrammes avec une échelle appropriée. Indiquez sur ce graphique la moyenne, le mode, la médiane et la moyenne quadratique des distributions."
   ]
  },
  {
   "cell_type": "code",
   "execution_count": null,
   "metadata": {
    "nteract": {
     "transient": {
      "deleting": false
     }
    }
   },
   "outputs": [],
   "source": [
    "\n",
    "#"
   ]
  },
  {
   "cell_type": "markdown",
   "metadata": {},
   "source": [
    "**Bonus.** _(4 points)_ &mdash; Montrez que \n",
    "- (a) le théorème central limite est satisfait par une des distributions de vitesse du numéro précédent,\n",
    "- (b) le système simulé est ergodique."
   ]
  },
  {
   "cell_type": "code",
   "execution_count": null,
   "metadata": {
    "nteract": {
     "transient": {
      "deleting": false
     }
    }
   },
   "outputs": [],
   "source": [
    "\n",
    "#"
   ]
  },
  {
   "cell_type": "markdown",
   "metadata": {
    "nteract": {
     "transient": {
      "deleting": false
     }
    }
   },
   "source": [
    "# Médiagraphie #\n",
    " - La simulation utilise la librairie <a href=\"https://vpython.org\">VPython</a> conçue pour faciliter la visualisation de physique en 3D, avec les instructions d’installation <a href=\"https://vpython.org/presentation2018/install.html\">ici</a> et la documentation <a href=\"https://www.glowscript.org/docs/VPythonDocs/index.html\">ici</a>. Le code adapte en 2D et commente en détail l’exemple <a href=\"https://www.glowscript.org/#/user/GlowScriptDemos/folder/Examples/program/HardSphereGas-VPython\">HardSphereGas-VPython</a> du site interactif <a href=\"https://www.glowscript.org\">GlowScript</a> pour programmer des animations avec VPython directement en ligne."
   ]
  }
 ],
 "metadata": {
  "kernelspec": {
   "display_name": "Python 3",
   "language": "python",
   "name": "python3"
  },
  "language_info": {
   "codemirror_mode": {
    "name": "ipython",
    "version": 3
   },
   "file_extension": ".py",
   "mimetype": "text/x-python",
   "name": "python",
   "nbconvert_exporter": "python",
   "pygments_lexer": "ipython3",
   "version": "3.9.13"
  }
 },
 "nbformat": 4,
 "nbformat_minor": 4
}
